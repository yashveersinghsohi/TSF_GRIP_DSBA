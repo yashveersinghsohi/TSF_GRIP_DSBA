{
  "nbformat": 4,
  "nbformat_minor": 0,
  "metadata": {
    "colab": {
      "name": "TSF_GRIP_DSBA_TASK_1.ipynb",
      "provenance": [],
      "include_colab_link": true
    },
    "kernelspec": {
      "name": "python3",
      "display_name": "Python 3"
    }
  },
  "cells": [
    {
      "cell_type": "markdown",
      "metadata": {
        "id": "view-in-github",
        "colab_type": "text"
      },
      "source": [
        "<a href=\"https://colab.research.google.com/github/yashveersinghsohi/TSF_GRIP_DSBA/blob/master/Task1/TSF_GRIP_DSBA_TASK_1.ipynb\" target=\"_parent\"><img src=\"https://colab.research.google.com/assets/colab-badge.svg\" alt=\"Open In Colab\"/></a>"
      ]
    },
    {
      "cell_type": "markdown",
      "metadata": {
        "id": "JnlS_7hJ_yZA"
      },
      "source": [
        "# Task 1 - Prediction using Supervised ML\n",
        "\n",
        "**By: Yashveer Singh Sohi** <br>\n",
        "Data Science and Business Analytics Intern at The Sparks Foundation"
      ]
    },
    {
      "cell_type": "markdown",
      "metadata": {
        "id": "x973zLTzAjyH"
      },
      "source": [
        "## Problem Description"
      ]
    },
    {
      "cell_type": "markdown",
      "metadata": {
        "id": "YFor8wI-Am6L"
      },
      "source": [
        "- Predict the percentage of an student based on the no. of study hours.\n",
        "- This is a simple linear regression task as it involves just 2 variables.\n",
        "- Data can be found at http://bit.ly/w-data\n",
        "- What will be predicted score if a student studies for 9.25 hrs/ day?"
      ]
    },
    {
      "cell_type": "markdown",
      "metadata": {
        "id": "nlyT5D_5BEJe"
      },
      "source": [
        "## Importing required packages"
      ]
    },
    {
      "cell_type": "markdown",
      "metadata": {
        "id": "wm2_7e8pBwDT"
      },
      "source": [
        "In this notebook:\n",
        "- [pandas](https://pandas.pydata.org/docs/) and [numpy](https://numpy.org/doc/) are used for data manipulation.\n",
        "- [matplotlib.pyplot](https://matplotlib.org/3.3.3/contents.html) and [seaborn](https://seaborn.pydata.org/) are used for plotting and data visualization.\n",
        "- [sklearn](https://scikit-learn.org/stable/) is used for building a Linear Regression model for the data, and for evaluating the model."
      ]
    },
    {
      "cell_type": "code",
      "metadata": {
        "id": "E-0iZOLL_xF6"
      },
      "source": [
        "# For Data Manipulation\n",
        "import pandas as pd\n",
        "import numpy as np\n",
        "\n",
        "# For Data Visualization\n",
        "import matplotlib.pyplot as plt\n",
        "import seaborn as sns\n",
        "\n",
        "# For Building and Evaluating Linear Regression Model\n",
        "from sklearn.model_selection import train_test_split\n",
        "from sklearn.linear_model import LinearRegression\n",
        "from sklearn.metrics import mean_absolute_error, mean_squared_error"
      ],
      "execution_count": 1,
      "outputs": []
    },
    {
      "cell_type": "markdown",
      "metadata": {
        "id": "tH8DjaqkDTuJ"
      },
      "source": [
        "## Reading Data"
      ]
    },
    {
      "cell_type": "markdown",
      "metadata": {
        "id": "zxI56gAcDn7u"
      },
      "source": [
        "- Using pandas [read_csv](https://pandas.pydata.org/pandas-docs/stable/reference/api/pandas.read_csv.html) method, the data is loaded into a pandas **dataframe** from the URL mentioned above."
      ]
    },
    {
      "cell_type": "code",
      "metadata": {
        "colab": {
          "base_uri": "https://localhost:8080/",
          "height": 824
        },
        "id": "rhhXhvQYBSZ7",
        "outputId": "f4e1046a-fa8e-41d7-f0e4-2fbbf663ea03"
      },
      "source": [
        "# Data is stored in this URL\n",
        "data_url = \"http://bit.ly/w-data\"\n",
        "\n",
        "# Loading Data into a pandas dataframe\n",
        "data = pd.read_csv(data_url)\n",
        "\n",
        "# Show dataset\n",
        "data"
      ],
      "execution_count": 2,
      "outputs": [
        {
          "output_type": "execute_result",
          "data": {
            "text/html": [
              "<div>\n",
              "<style scoped>\n",
              "    .dataframe tbody tr th:only-of-type {\n",
              "        vertical-align: middle;\n",
              "    }\n",
              "\n",
              "    .dataframe tbody tr th {\n",
              "        vertical-align: top;\n",
              "    }\n",
              "\n",
              "    .dataframe thead th {\n",
              "        text-align: right;\n",
              "    }\n",
              "</style>\n",
              "<table border=\"1\" class=\"dataframe\">\n",
              "  <thead>\n",
              "    <tr style=\"text-align: right;\">\n",
              "      <th></th>\n",
              "      <th>Hours</th>\n",
              "      <th>Scores</th>\n",
              "    </tr>\n",
              "  </thead>\n",
              "  <tbody>\n",
              "    <tr>\n",
              "      <th>0</th>\n",
              "      <td>2.5</td>\n",
              "      <td>21</td>\n",
              "    </tr>\n",
              "    <tr>\n",
              "      <th>1</th>\n",
              "      <td>5.1</td>\n",
              "      <td>47</td>\n",
              "    </tr>\n",
              "    <tr>\n",
              "      <th>2</th>\n",
              "      <td>3.2</td>\n",
              "      <td>27</td>\n",
              "    </tr>\n",
              "    <tr>\n",
              "      <th>3</th>\n",
              "      <td>8.5</td>\n",
              "      <td>75</td>\n",
              "    </tr>\n",
              "    <tr>\n",
              "      <th>4</th>\n",
              "      <td>3.5</td>\n",
              "      <td>30</td>\n",
              "    </tr>\n",
              "    <tr>\n",
              "      <th>5</th>\n",
              "      <td>1.5</td>\n",
              "      <td>20</td>\n",
              "    </tr>\n",
              "    <tr>\n",
              "      <th>6</th>\n",
              "      <td>9.2</td>\n",
              "      <td>88</td>\n",
              "    </tr>\n",
              "    <tr>\n",
              "      <th>7</th>\n",
              "      <td>5.5</td>\n",
              "      <td>60</td>\n",
              "    </tr>\n",
              "    <tr>\n",
              "      <th>8</th>\n",
              "      <td>8.3</td>\n",
              "      <td>81</td>\n",
              "    </tr>\n",
              "    <tr>\n",
              "      <th>9</th>\n",
              "      <td>2.7</td>\n",
              "      <td>25</td>\n",
              "    </tr>\n",
              "    <tr>\n",
              "      <th>10</th>\n",
              "      <td>7.7</td>\n",
              "      <td>85</td>\n",
              "    </tr>\n",
              "    <tr>\n",
              "      <th>11</th>\n",
              "      <td>5.9</td>\n",
              "      <td>62</td>\n",
              "    </tr>\n",
              "    <tr>\n",
              "      <th>12</th>\n",
              "      <td>4.5</td>\n",
              "      <td>41</td>\n",
              "    </tr>\n",
              "    <tr>\n",
              "      <th>13</th>\n",
              "      <td>3.3</td>\n",
              "      <td>42</td>\n",
              "    </tr>\n",
              "    <tr>\n",
              "      <th>14</th>\n",
              "      <td>1.1</td>\n",
              "      <td>17</td>\n",
              "    </tr>\n",
              "    <tr>\n",
              "      <th>15</th>\n",
              "      <td>8.9</td>\n",
              "      <td>95</td>\n",
              "    </tr>\n",
              "    <tr>\n",
              "      <th>16</th>\n",
              "      <td>2.5</td>\n",
              "      <td>30</td>\n",
              "    </tr>\n",
              "    <tr>\n",
              "      <th>17</th>\n",
              "      <td>1.9</td>\n",
              "      <td>24</td>\n",
              "    </tr>\n",
              "    <tr>\n",
              "      <th>18</th>\n",
              "      <td>6.1</td>\n",
              "      <td>67</td>\n",
              "    </tr>\n",
              "    <tr>\n",
              "      <th>19</th>\n",
              "      <td>7.4</td>\n",
              "      <td>69</td>\n",
              "    </tr>\n",
              "    <tr>\n",
              "      <th>20</th>\n",
              "      <td>2.7</td>\n",
              "      <td>30</td>\n",
              "    </tr>\n",
              "    <tr>\n",
              "      <th>21</th>\n",
              "      <td>4.8</td>\n",
              "      <td>54</td>\n",
              "    </tr>\n",
              "    <tr>\n",
              "      <th>22</th>\n",
              "      <td>3.8</td>\n",
              "      <td>35</td>\n",
              "    </tr>\n",
              "    <tr>\n",
              "      <th>23</th>\n",
              "      <td>6.9</td>\n",
              "      <td>76</td>\n",
              "    </tr>\n",
              "    <tr>\n",
              "      <th>24</th>\n",
              "      <td>7.8</td>\n",
              "      <td>86</td>\n",
              "    </tr>\n",
              "  </tbody>\n",
              "</table>\n",
              "</div>"
            ],
            "text/plain": [
              "    Hours  Scores\n",
              "0     2.5      21\n",
              "1     5.1      47\n",
              "2     3.2      27\n",
              "3     8.5      75\n",
              "4     3.5      30\n",
              "5     1.5      20\n",
              "6     9.2      88\n",
              "7     5.5      60\n",
              "8     8.3      81\n",
              "9     2.7      25\n",
              "10    7.7      85\n",
              "11    5.9      62\n",
              "12    4.5      41\n",
              "13    3.3      42\n",
              "14    1.1      17\n",
              "15    8.9      95\n",
              "16    2.5      30\n",
              "17    1.9      24\n",
              "18    6.1      67\n",
              "19    7.4      69\n",
              "20    2.7      30\n",
              "21    4.8      54\n",
              "22    3.8      35\n",
              "23    6.9      76\n",
              "24    7.8      86"
            ]
          },
          "metadata": {
            "tags": []
          },
          "execution_count": 2
        }
      ]
    },
    {
      "cell_type": "markdown",
      "metadata": {
        "id": "gVWj823PEPSR"
      },
      "source": [
        "## Checking for Null values"
      ]
    },
    {
      "cell_type": "markdown",
      "metadata": {
        "id": "9VQrkxc8EVYj"
      },
      "source": [
        "- [isnull](https://pandas.pydata.org/pandas-docs/stable/reference/api/pandas.isnull.html) function is used to detect missing values for an array-like object.\n",
        "- If a value is missing, it is set to **True** in the array returned by **isnull** function.\n",
        "- Since, **True** is equivalant to 1, and **False** is equivalant to 0, the **sum** function will return the number of missing values for each column in the dataframe."
      ]
    },
    {
      "cell_type": "code",
      "metadata": {
        "colab": {
          "base_uri": "https://localhost:8080/"
        },
        "id": "JJtL9D-7DlB8",
        "outputId": "b60bd25e-a006-4234-dbd7-a1608c7cae87"
      },
      "source": [
        "data.isnull().sum()"
      ],
      "execution_count": 3,
      "outputs": [
        {
          "output_type": "execute_result",
          "data": {
            "text/plain": [
              "Hours     0\n",
              "Scores    0\n",
              "dtype: int64"
            ]
          },
          "metadata": {
            "tags": []
          },
          "execution_count": 3
        }
      ]
    },
    {
      "cell_type": "markdown",
      "metadata": {
        "id": "vrIUjWGVFUGd"
      },
      "source": [
        "**Observations:** Clearly the data does not contain any missing values."
      ]
    },
    {
      "cell_type": "markdown",
      "metadata": {
        "id": "3TKd59H9Fuxc"
      },
      "source": [
        "## Data Visualization"
      ]
    },
    {
      "cell_type": "markdown",
      "metadata": {
        "id": "o718FSy_JcZH"
      },
      "source": [
        "### Scatter Plot"
      ]
    },
    {
      "cell_type": "markdown",
      "metadata": {
        "id": "GXidVLrhHhmD"
      },
      "source": [
        "- The scatter plot is built using [scatter](https://matplotlib.org/3.3.3/api/_as_gen/matplotlib.pyplot.scatter.html) function in matplotlib.pyplot.\n",
        "- The size of the figure is set using [figure](https://matplotlib.org/stable/api/_as_gen/matplotlib.pyplot.figure.html) function.\n",
        "- The [title](https://matplotlib.org/3.1.1/api/_as_gen/matplotlib.pyplot.title.html) , [xlabel](https://matplotlib.org/3.1.1/api/_as_gen/matplotlib.pyplot.xlabel.html) , and [ylabel](https://matplotlib.org/3.1.1/api/_as_gen/matplotlib.pyplot.ylabel.html) functions are used to set the **Title**, **X-axis label**, and **Y-axis label** respectively.\n",
        "- To display the figure [show](https://matplotlib.org/3.1.1/api/_as_gen/matplotlib.pyplot.show.html) function is used."
      ]
    },
    {
      "cell_type": "code",
      "metadata": {
        "colab": {
          "base_uri": "https://localhost:8080/",
          "height": 355
        },
        "id": "RBAIffc8FY1R",
        "outputId": "c1667d49-1145-4284-fd3c-01e879b57fd2"
      },
      "source": [
        "# Setting Figure Size\n",
        "plt.figure(figsize = (7, 5))\n",
        "\n",
        "# Plotting the scatter plot\n",
        "plt.scatter(data[\"Hours\"], data[\"Scores\"])\n",
        "\n",
        "# Setting Title, and axis labels\n",
        "plt.title(\"Scatter Plot between Scores vs Hours studied\", size = 16)\n",
        "plt.xlabel(\"Hours\", size = 12)\n",
        "plt.ylabel(\"Scores\", size = 12)\n",
        "\n",
        "# Displaying the plot\n",
        "plt.show()"
      ],
      "execution_count": 4,
      "outputs": [
        {
          "output_type": "display_data",
          "data": {
            "image/png": "[encoded data removed]",
            "text/plain": [
              "<Figure size 504x360 with 1 Axes>"
            ]
          },
          "metadata": {
            "tags": [],
            "needs_background": "light"
          }
        }
      ]
    },
    {
      "cell_type": "markdown",
      "metadata": {
        "id": "P3Xb1pckJJAE"
      },
      "source": [
        "**Observations:** There seems to be a strong positive correlation between the Number of hours a student studies, and the score that they receive."
      ]
    },
    {
      "cell_type": "markdown",
      "metadata": {
        "id": "5aa_CUeVJe7w"
      },
      "source": [
        "### Heatmap"
      ]
    },
    {
      "cell_type": "markdown",
      "metadata": {
        "id": "KR39pmLEJg9G"
      },
      "source": [
        "- The strong correlation observed in the previous plot can be quantified numerically using a **Heatmap**.\n",
        "- The [heatmap](https://seaborn.pydata.org/generated/seaborn.heatmap.html) function in seaborn is used to build the heatmap.\n",
        "- On setting `annot = True` the figure will have the correlation values between each column displayed.\n",
        "- The [corr](https://pandas.pydata.org/pandas-docs/stable/reference/api/pandas.DataFrame.corr.html) function is used to calculate the correlation between the columns of the dataframe **data**"
      ]
    },
    {
      "cell_type": "code",
      "metadata": {
        "colab": {
          "base_uri": "https://localhost:8080/",
          "height": 324
        },
        "id": "vZBPHAKzJaXY",
        "outputId": "436d0d06-d5fd-43d2-bea3-b2fd559b3b0a"
      },
      "source": [
        "# Setting Figure Size\n",
        "plt.figure(figsize = (7, 5))\n",
        "\n",
        "# Plotting heatmap\n",
        "sns.heatmap(data.corr(), annot = True)\n",
        "\n",
        "# Displaying Figure\n",
        "plt.show()"
      ],
      "execution_count": 5,
      "outputs": [
        {
          "output_type": "display_data",
          "data": {
            "image/png": "[encoded data removed]",
            "text/plain": [
              "<Figure size 504x360 with 2 Axes>"
            ]
          },
          "metadata": {
            "tags": [],
            "needs_background": "light"
          }
        }
      ]
    },
    {
      "cell_type": "markdown",
      "metadata": {
        "id": "arxgdg-4OaHg"
      },
      "source": [
        "**Observations:** The strong positive correlation observed in the scatter plot is now verified using the heatmap"
      ]
    },
    {
      "cell_type": "markdown",
      "metadata": {
        "id": "ild4fKQrOsTy"
      },
      "source": [
        "## Data Preperation"
      ]
    },
    {
      "cell_type": "markdown",
      "metadata": {
        "id": "Fb0P4aeIPNod"
      },
      "source": [
        "### Seperating Independent and Dependant variables"
      ]
    },
    {
      "cell_type": "markdown",
      "metadata": {
        "id": "uoyRGfoaP9OO"
      },
      "source": [
        "- The Independent variable is represented by **X**. Here `X = Number of Hours a student studies for`.\n",
        "- The Dependant variable is represented by **y**. Here `y = Score received by the student`.\n",
        "- The [values](https://pandas.pydata.org/pandas-docs/stable/reference/api/pandas.DataFrame.values.html) function converts the columns to numpy arrays. \n",
        "- The [shape](https://numpy.org/devdocs/reference/generated/numpy.shape.html) function gives the dimensions of a numpy array."
      ]
    },
    {
      "cell_type": "code",
      "metadata": {
        "colab": {
          "base_uri": "https://localhost:8080/"
        },
        "id": "0pEWUgNeOo1j",
        "outputId": "12a4cc83-0d5c-40eb-8b7e-31396564285d"
      },
      "source": [
        "# Seperating Independent and Dependant variables\n",
        "X, y = data[[\"Hours\"]].values, data[\"Scores\"].values\n",
        "\n",
        "# Printing size of the 2 arrays\n",
        "print(\"Size of Independent variable X (Hours): \", X.shape)\n",
        "print(\"Size of Dependant variable y (Scores): \", y.shape)"
      ],
      "execution_count": 6,
      "outputs": [
        {
          "output_type": "stream",
          "text": [
            "Size of Independent variable X (Hours):  (25, 1)\n",
            "Size of Dependant variable y (Scores):  (25,)\n"
          ],
          "name": "stdout"
        }
      ]
    },
    {
      "cell_type": "markdown",
      "metadata": {
        "id": "RQ2L97IVRkn1"
      },
      "source": [
        "### Splitting Data into train and test sets"
      ]
    },
    {
      "cell_type": "markdown",
      "metadata": {
        "id": "X0Bl-Yl9Svpm"
      },
      "source": [
        "- The data is split into 2 sets - train and test.\n",
        "- Train set is used to train the model, and the test set is used to evaluate the model.\n",
        "- Here, the **80%** of the data is used for training and the rest for testing.\n",
        "- This split is done using [train_test_split](http://scikit-learn.org/stable/modules/generated/sklearn.model_selection.train_test_split.html) function in sklearn.\n",
        "- Setting `test_size = 0.2` gives us the **80%** train and **20%** test split.\n",
        "- Setting `random_state = 42` makes sure that the results obtained in this notebook can be reproduced. Without this, the function will return a random **80-20** split everytime it is run."
      ]
    },
    {
      "cell_type": "code",
      "metadata": {
        "colab": {
          "base_uri": "https://localhost:8080/"
        },
        "id": "TO18LhcNReXC",
        "outputId": "3c273d3a-21c5-4a26-890f-93170bd48283"
      },
      "source": [
        "# Splitting Data into train and test set\n",
        "X_train, X_test, y_train, y_test = train_test_split(X, y, \n",
        "                                                    test_size = 0.2, \n",
        "                                                    random_state = 42)\n",
        "\n",
        "# Printing Train and Test sizes\n",
        "print(\"Train Features Size (X_train) \", X_train.shape)\n",
        "print(\"Train Targets Size (y_train) \", y_train.shape)\n",
        "print()\n",
        "print(\"Test Features Size (X_test) \", X_test.shape)\n",
        "print(\"Test Targets Size (y_test) \", y_test.shape)"
      ],
      "execution_count": 7,
      "outputs": [
        {
          "output_type": "stream",
          "text": [
            "Train Features Size (X_train)  (20, 1)\n",
            "Train Targets Size (y_train)  (20,)\n",
            "\n",
            "Test Features Size (X_test)  (5, 1)\n",
            "Test Targets Size (y_test)  (5,)\n"
          ],
          "name": "stdout"
        }
      ]
    },
    {
      "cell_type": "markdown",
      "metadata": {
        "id": "d7oiNBX2T29a"
      },
      "source": [
        "## Linear Regression"
      ]
    },
    {
      "cell_type": "markdown",
      "metadata": {
        "id": "fGI666mQT5uH"
      },
      "source": [
        "### Model Training"
      ]
    },
    {
      "cell_type": "markdown",
      "metadata": {
        "id": "y4kSoXQpUoNA"
      },
      "source": [
        "- The Model is first instantiated using the [LinearRegression](https://scikit-learn.org/stable/modules/generated/sklearn.linear_model.LinearRegression.html) function.\n",
        "- The [fit](https://scikit-learn.org/stable/modules/generated/sklearn.linear_model.LinearRegression.html#sklearn.linear_model.LinearRegression.fit) method is used to then train this model.\n",
        "- The fit method takes in the training features (`X_train`) and targets (`y_train`) as its parameters.\n"
      ]
    },
    {
      "cell_type": "code",
      "metadata": {
        "colab": {
          "base_uri": "https://localhost:8080/"
        },
        "id": "tTV0clseSuPW",
        "outputId": "beda1023-4a53-4929-e6d8-d66992bcedf9"
      },
      "source": [
        "# Model Instantiation\n",
        "linear_regression = LinearRegression()\n",
        "\n",
        "# Model Training\n",
        "linear_regression.fit(X_train, y_train)"
      ],
      "execution_count": 8,
      "outputs": [
        {
          "output_type": "execute_result",
          "data": {
            "text/plain": [
              "LinearRegression(copy_X=True, fit_intercept=True, n_jobs=None, normalize=False)"
            ]
          },
          "metadata": {
            "tags": []
          },
          "execution_count": 8
        }
      ]
    },
    {
      "cell_type": "markdown",
      "metadata": {
        "id": "1bejpJt1WW4a"
      },
      "source": [
        "### Model Predictions"
      ]
    },
    {
      "cell_type": "markdown",
      "metadata": {
        "id": "3pVOqmXGWzk7"
      },
      "source": [
        "- The [predict](https://scikit-learn.org/stable/modules/generated/sklearn.linear_model.LinearRegression.html#sklearn.linear_model.LinearRegression.predict) method is used to get the predictions of the Linear Regression model trained above.\n",
        "- The function takes in the Testing features (`X_test`) as its argument."
      ]
    },
    {
      "cell_type": "code",
      "metadata": {
        "colab": {
          "base_uri": "https://localhost:8080/"
        },
        "id": "IlA_NMyfWY3i",
        "outputId": "40d1970d-9114-4981-a918-cdb97fe0f156"
      },
      "source": [
        "# Model predictions\n",
        "linear_regression_predictions = linear_regression.predict(X_test)\n",
        "\n",
        "# Displaying Predictions\n",
        "linear_regression_predictions"
      ],
      "execution_count": 9,
      "outputs": [
        {
          "output_type": "execute_result",
          "data": {
            "text/plain": [
              "array([83.18814104, 27.03208774, 27.03208774, 69.63323162, 59.95115347])"
            ]
          },
          "metadata": {
            "tags": []
          },
          "execution_count": 9
        }
      ]
    },
    {
      "cell_type": "markdown",
      "metadata": {
        "id": "jktOgRfZ2u8-"
      },
      "source": [
        "In addition to the predictions over the test set, lets also store the predictions over the **full dataset**."
      ]
    },
    {
      "cell_type": "code",
      "metadata": {
        "colab": {
          "base_uri": "https://localhost:8080/"
        },
        "id": "FvkxV1pS23U_",
        "outputId": "d6b6cfec-7ee8-42ae-8021-01ad51880f01"
      },
      "source": [
        "# Model predictions\n",
        "linear_regression_predictions_complete = linear_regression.predict(X)\n",
        "\n",
        "# Displaying Predictions\n",
        "linear_regression_predictions_complete"
      ],
      "execution_count": 10,
      "outputs": [
        {
          "output_type": "execute_result",
          "data": {
            "text/plain": [
              "array([27.03208774, 52.20549094, 33.80954245, 85.12455667, 36.71416589,\n",
              "       17.35000959, 91.90201137, 56.0783222 , 83.18814104, 28.96850337,\n",
              "       77.37889414, 59.95115347, 46.39624405, 34.77775026, 13.47717832,\n",
              "       88.99738793, 27.03208774, 21.22284085, 61.8875691 , 74.4742707 ,\n",
              "       28.96850337, 49.3008675 , 39.61878934, 69.63323162, 78.34710196])"
            ]
          },
          "metadata": {
            "tags": []
          },
          "execution_count": 10
        }
      ]
    },
    {
      "cell_type": "markdown",
      "metadata": {
        "id": "9-QzprnqUQkY"
      },
      "source": [
        "### Model Evaluation"
      ]
    },
    {
      "cell_type": "markdown",
      "metadata": {
        "id": "2uiZxUnG1Ej-"
      },
      "source": [
        "#### Visual Inspection"
      ]
    },
    {
      "cell_type": "markdown",
      "metadata": {
        "id": "qax29dlcchIR"
      },
      "source": [
        "Lets compare the predicted values with the actual values.\n",
        "- Using the [ravel](https://numpy.org/doc/stable/reference/generated/numpy.ravel.html) function, a 2D array can be converted to a 1D array.\n",
        "- The test features (`X_test`), test targets (`y_test`) and predictions on test features (`linear_regression_predictions`), are stored in a dataframe and disaplyed using the [DataFrame](https://pandas.pydata.org/pandas-docs/stable/reference/api/pandas.DataFrame.html) function. "
      ]
    },
    {
      "cell_type": "code",
      "metadata": {
        "colab": {
          "base_uri": "https://localhost:8080/",
          "height": 204
        },
        "id": "0tvPjp_zcmm2",
        "outputId": "e454c3f0-abe5-4e23-e321-10d2abbd9a11"
      },
      "source": [
        "pd.DataFrame({\n",
        "    \"X_test\": X_test.ravel(),\n",
        "    \"y_test\": y_test.ravel(),\n",
        "    \"Predictions\": linear_regression_predictions.ravel()\n",
        "})"
      ],
      "execution_count": 11,
      "outputs": [
        {
          "output_type": "execute_result",
          "data": {
            "text/html": [
              "<div>\n",
              "<style scoped>\n",
              "    .dataframe tbody tr th:only-of-type {\n",
              "        vertical-align: middle;\n",
              "    }\n",
              "\n",
              "    .dataframe tbody tr th {\n",
              "        vertical-align: top;\n",
              "    }\n",
              "\n",
              "    .dataframe thead th {\n",
              "        text-align: right;\n",
              "    }\n",
              "</style>\n",
              "<table border=\"1\" class=\"dataframe\">\n",
              "  <thead>\n",
              "    <tr style=\"text-align: right;\">\n",
              "      <th></th>\n",
              "      <th>X_test</th>\n",
              "      <th>y_test</th>\n",
              "      <th>Predictions</th>\n",
              "    </tr>\n",
              "  </thead>\n",
              "  <tbody>\n",
              "    <tr>\n",
              "      <th>0</th>\n",
              "      <td>8.3</td>\n",
              "      <td>81</td>\n",
              "      <td>83.188141</td>\n",
              "    </tr>\n",
              "    <tr>\n",
              "      <th>1</th>\n",
              "      <td>2.5</td>\n",
              "      <td>30</td>\n",
              "      <td>27.032088</td>\n",
              "    </tr>\n",
              "    <tr>\n",
              "      <th>2</th>\n",
              "      <td>2.5</td>\n",
              "      <td>21</td>\n",
              "      <td>27.032088</td>\n",
              "    </tr>\n",
              "    <tr>\n",
              "      <th>3</th>\n",
              "      <td>6.9</td>\n",
              "      <td>76</td>\n",
              "      <td>69.633232</td>\n",
              "    </tr>\n",
              "    <tr>\n",
              "      <th>4</th>\n",
              "      <td>5.9</td>\n",
              "      <td>62</td>\n",
              "      <td>59.951153</td>\n",
              "    </tr>\n",
              "  </tbody>\n",
              "</table>\n",
              "</div>"
            ],
            "text/plain": [
              "   X_test  y_test  Predictions\n",
              "0     8.3      81    83.188141\n",
              "1     2.5      30    27.032088\n",
              "2     2.5      21    27.032088\n",
              "3     6.9      76    69.633232\n",
              "4     5.9      62    59.951153"
            ]
          },
          "metadata": {
            "tags": []
          },
          "execution_count": 11
        }
      ]
    },
    {
      "cell_type": "markdown",
      "metadata": {
        "id": "QaP9xfnQ1J4f"
      },
      "source": [
        "The values of `y_test` and `linear_regression_predictions` look close enough. Lets visualize them more by using a scatter plot.\n",
        "- Below 2 scatter plots are made. First one is for predictions over the complete dataset and the second one is for predictions over the test set only.\n",
        "- The [subplots](https://matplotlib.org/stable/api/_as_gen/matplotlib.pyplot.subplots.html) function in matplotlib is used to set the number of subplots, and the size of the figure.\n",
        "- The [plot](https://matplotlib.org/3.3.3/api/_as_gen/matplotlib.pyplot.plot.html) function is used to plot the predictions and connect the points in a line.\n",
        "- The `marker`, `alpha`, `color`, `label` arguments in the plotting functions are used to style the plots. (refer docs of [plot](https://matplotlib.org/3.3.3/api/_as_gen/matplotlib.pyplot.plot.html) and [scatter](https://matplotlib.org/3.3.3/api/_as_gen/matplotlib.pyplot.scatter.html))\n",
        "- The [set_title](https://matplotlib.org/3.1.1/api/_as_gen/matplotlib.axes.Axes.set_title.html), [set_xlabel](https://matplotlib.org/3.1.1/api/_as_gen/matplotlib.axes.Axes.set_xlabel.html) and [set_ylabel](https://matplotlib.org/3.1.1/api/_as_gen/matplotlib.axes.Axes.set_ylabel.html) functions are used to set the Title, and axis labels for each subplot.\n",
        "- The legends are displayed in the plots using the [legend](https://matplotlib.org/3.3.3/api/_as_gen/matplotlib.pyplot.legend.html) function. "
      ]
    },
    {
      "cell_type": "code",
      "metadata": {
        "colab": {
          "base_uri": "https://localhost:8080/",
          "height": 355
        },
        "id": "kP1vE6U81aU_",
        "outputId": "64724496-8a9e-4eb4-ddbd-4137b1082c21"
      },
      "source": [
        "# Setting the subplots and figure size\n",
        "fig, ax = plt.subplots(1, 2, figsize = (14, 5))\n",
        "\n",
        "# Building the first scatter plot\n",
        "# Plotting dataset in blue\n",
        "ax[0].scatter(X, y, color = \"blue\", label = \"Actuals\")\n",
        "# Plotting predictions in red\n",
        "ax[0].plot(X, linear_regression_predictions_complete, \n",
        "           alpha = 0.5, marker = \"o\", color = \"red\", label = \"Predictions\")\n",
        "# Setting title, and axis labels\n",
        "ax[0].set_title(\"Predictions vs Actuals for full dataset\", size = 16)\n",
        "ax[0].set_xlabel(\"Hours\", size = 12)\n",
        "ax[0].set_ylabel(\"Score\", size = 12)\n",
        "# Displaying Legends\n",
        "ax[0].legend()\n",
        "\n",
        "\n",
        "# Building the second scatter plot\n",
        "# Plotting test dataset in blue\n",
        "ax[1].scatter(X_test, y_test, color = \"blue\", label = \"Actuals\")\n",
        "# Plotting predictions in red\n",
        "ax[1].plot(X_test, linear_regression_predictions, \n",
        "           alpha = 0.5, marker = \"o\", color = \"red\", label = \"Predictions\")\n",
        "# Setting title, and axis labels\n",
        "ax[1].set_title(\"Predictions vs Actuals for test dataset\", size = 16)\n",
        "ax[1].set_xlabel(\"Hours\", size = 12)\n",
        "ax[1].set_ylabel(\"Score\", size = 12)\n",
        "# Displaying Legends\n",
        "ax[1].legend()\n",
        "\n",
        "# Displaying plots and legends\n",
        "plt.show()"
      ],
      "execution_count": 12,
      "outputs": [
        {
          "output_type": "display_data",
          "data": {
            "image/png": "[encoded data removed]",
            "text/plain": [
              "<Figure size 1008x360 with 2 Axes>"
            ]
          },
          "metadata": {
            "tags": [],
            "needs_background": "light"
          }
        }
      ]
    },
    {
      "cell_type": "markdown",
      "metadata": {
        "id": "HUYuILUE7npD"
      },
      "source": [
        "The model looks to be fitting the data well. But to get a quantitative measure of the model's performance, error metrics are used. "
      ]
    },
    {
      "cell_type": "markdown",
      "metadata": {
        "id": "rYuWbwoT7yKF"
      },
      "source": [
        "#### Error Metrics"
      ]
    },
    {
      "cell_type": "markdown",
      "metadata": {
        "id": "o3oqDL97VogL"
      },
      "source": [
        "In this notebook, the model is evaluated using the following metrics:\n",
        "- Mean Absolute Error\n",
        "- Root Mean Squared Erroe"
      ]
    },
    {
      "cell_type": "markdown",
      "metadata": {
        "id": "ei8idHp9Vz1u"
      },
      "source": [
        "**Mean Absolute Error (MAE)**\n"
      ]
    },
    {
      "cell_type": "markdown",
      "metadata": {
        "id": "cU-3I-_n77b0"
      },
      "source": [
        "- MAE is calculated using the [mean_absolute_error](https://scikit-learn.org/stable/modules/generated/sklearn.metrics.mean_absolute_error.html) function.\n",
        "- The function takes in the actuals and the predictions in the following 2 arguments respectively: `y_true`, `y_pred`."
      ]
    },
    {
      "cell_type": "code",
      "metadata": {
        "colab": {
          "base_uri": "https://localhost:8080/"
        },
        "id": "78TVf8WFUTAm",
        "outputId": "ce84d4a9-c1da-41c0-e433-6ac577a66c29"
      },
      "source": [
        "# Calculating MAE\n",
        "mae = mean_absolute_error(y_true = y_test, \n",
        "                          y_pred = linear_regression_predictions)\n",
        "\n",
        "# Displaying MAE\n",
        "mae"
      ],
      "execution_count": 13,
      "outputs": [
        {
          "output_type": "execute_result",
          "data": {
            "text/plain": [
              "3.9207511902099244"
            ]
          },
          "metadata": {
            "tags": []
          },
          "execution_count": 13
        }
      ]
    },
    {
      "cell_type": "markdown",
      "metadata": {
        "id": "1eFVNukYYSfC"
      },
      "source": [
        "**Root Mean Squared Error (RMSE)**"
      ]
    },
    {
      "cell_type": "markdown",
      "metadata": {
        "id": "4k68ScrL8cWc"
      },
      "source": [
        "- There is no direct function to calculate RMSE.\n",
        "- To calculate RMSE, first MSE is calculated using the [mean_squared_error](https://scikit-learn.org/stable/modules/generated/sklearn.metrics.mean_squared_error.html) function.\n",
        "- Like the previous function, it also takes in the actuals and the predictions in the following 2 arguments respectively: `y_true`, `y_pred`.\n",
        "- The RMSE is calculated by using the [sqrt](https://numpy.org/doc/stable/reference/generated/numpy.sqrt.html) function from numpy over the MSE calculated."
      ]
    },
    {
      "cell_type": "code",
      "metadata": {
        "colab": {
          "base_uri": "https://localhost:8080/"
        },
        "id": "525GVZOdYVBD",
        "outputId": "86cf17b6-a622-415a-ffcc-e1521407b691"
      },
      "source": [
        "# Calculating RMSE\n",
        "rmse = np.sqrt(mean_squared_error(y_true = y_test, \n",
        "                                  y_pred = linear_regression_predictions))\n",
        "\n",
        "# Displaying RMSE\n",
        "rmse"
      ],
      "execution_count": 14,
      "outputs": [
        {
          "output_type": "execute_result",
          "data": {
            "text/plain": [
              "4.352380006653288"
            ]
          },
          "metadata": {
            "tags": []
          },
          "execution_count": 14
        }
      ]
    },
    {
      "cell_type": "markdown",
      "metadata": {
        "id": "MoqqqdzCUTaa"
      },
      "source": [
        "## Answering the Question of the task"
      ]
    },
    {
      "cell_type": "markdown",
      "metadata": {
        "id": "8blURnC39JnZ"
      },
      "source": [
        "**Question:** What will be predicted score if a student studies for 9.25 hrs/ day?"
      ]
    },
    {
      "cell_type": "code",
      "metadata": {
        "colab": {
          "base_uri": "https://localhost:8080/"
        },
        "id": "cesvLSCEUWEf",
        "outputId": "a44b767c-7990-49b0-98b2-e7ca92cc1e05"
      },
      "source": [
        "# Setting the input to be 9.25 hours/day\n",
        "ip = np.array([[9.25]])\n",
        "\n",
        "# Calculating the predicted score using the Linear Regression Model\n",
        "op = linear_regression.predict(ip)\n",
        "\n",
        "# Displaying the absolute predicted score and the rounded off score\n",
        "print(\"Absolute Predicted score \", op[0])\n",
        "print(\"Rounded off score \", round(op[0])) "
      ],
      "execution_count": 15,
      "outputs": [
        {
          "output_type": "stream",
          "text": [
            "Absolute Predicted score  92.38611528261494\n",
            "Rounded off score  92\n"
          ],
          "name": "stdout"
        }
      ]
    }
  ]
}